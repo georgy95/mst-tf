{
 "cells": [
  {
   "cell_type": "code",
   "execution_count": null,
   "metadata": {},
   "outputs": [],
   "source": [
    "import numpy as np\n",
    "from trainer.utils import DataLoader, plot_test_images, restore_original_image, get_Fcs\n",
    "from trainer.MST import MST\n",
    "import matplotlib.pyplot as plt\n",
    "from tensorflow.keras.preprocessing import image\n",
    "from tensorflow.keras.applications.vgg19 import preprocess_input\n",
    "%matplotlib inline"
   ]
  },
  {
   "cell_type": "code",
   "execution_count": null,
   "metadata": {},
   "outputs": [],
   "source": [
    "model = MST(None,None,3, decoder_weights='./trainer/data/weights/pretrained.h5')"
   ]
  },
  {
   "cell_type": "code",
   "execution_count": null,
   "metadata": {},
   "outputs": [],
   "source": [
    "# path to data\n",
    "dl = DataLoader(datapath='./trainer/data')"
   ]
  },
  {
   "cell_type": "code",
   "execution_count": null,
   "metadata": {},
   "outputs": [],
   "source": [
    "model.decoder.summary()"
   ]
  },
  {
   "cell_type": "code",
   "execution_count": null,
   "metadata": {},
   "outputs": [],
   "source": [
    "content_img = image.load_img('./trainer/data/test/content_img.jpg')\n",
    "style_img = image.load_img('./trainer/data/test/style_img.jpg')\n",
    "\n",
    "content_img = preprocess_input(np.array(content_img))\n",
    "style_img = preprocess_input(np.array(style_img))\n",
    "\n",
    "content_vgg = np.expand_dims(content_img, 0)\n",
    "style_vgg = np.expand_dims(style_img, 0)\n",
    "\n",
    "Fs = dl.vgg.predict(style_vgg)\n",
    "Fc = dl.vgg.predict(content_vgg)\n",
    "Fcs = get_Fcs(Fc, Fs, k=3, alpha=1)\n",
    "Fcs = np.expand_dims(Fcs, 0)\n",
    "Ics = model.decoder.predict(Fcs)"
   ]
  },
  {
   "cell_type": "code",
   "execution_count": null,
   "metadata": {},
   "outputs": [],
   "source": [
    "Ocs = restore_original_image(Ics, 'channels_last')\n",
    "Oc = restore_original_image(content_vgg, 'channels_last')\n",
    "Os = restore_original_image(style_vgg, 'channels_last')\n",
    "\n",
    "Ocs = np.squeeze(Ocs, axis=0)\n",
    "Oc = np.squeeze(Oc, axis=0)\n",
    "Os = np.squeeze(Os, axis=0)"
   ]
  },
  {
   "cell_type": "code",
   "execution_count": null,
   "metadata": {},
   "outputs": [],
   "source": [
    "im = {\n",
    "    'Content': Oc,\n",
    "    'Style': Os,\n",
    "    'Out': Ocs\n",
    "}\n",
    "\n",
    "fig, axes = plt.subplots(1, 3, figsize=(40, 10))\n",
    "for i, (title, img) in enumerate(im.items()):\n",
    "    axes[i].imshow(img)\n",
    "    axes[i].set_title(\"{} - {}\".format(title, img.shape))\n",
    "    axes[i].axis('off')\n",
    "\n",
    "plt.suptitle('{} - Epoch: {}'.format('filename', 23))\n",
    "plt.show()"
   ]
  },
  {
   "cell_type": "code",
   "execution_count": null,
   "metadata": {},
   "outputs": [],
   "source": []
  }
 ],
 "metadata": {
  "kernelspec": {
   "display_name": "Python 3",
   "language": "python",
   "name": "python3"
  },
  "language_info": {
   "codemirror_mode": {
    "name": "ipython",
    "version": 3
   },
   "file_extension": ".py",
   "mimetype": "text/x-python",
   "name": "python",
   "nbconvert_exporter": "python",
   "pygments_lexer": "ipython3",
   "version": "3.6.8"
  }
 },
 "nbformat": 4,
 "nbformat_minor": 2
}
